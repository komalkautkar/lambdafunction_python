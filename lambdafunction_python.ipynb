{
 "cells": [
  {
   "cell_type": "markdown",
   "id": "fa4edb5f",
   "metadata": {},
   "source": [
    "### I want to add no."
   ]
  },
  {
   "cell_type": "code",
   "execution_count": 1,
   "id": "8db6a7b5",
   "metadata": {},
   "outputs": [
    {
     "name": "stdout",
     "output_type": "stream",
     "text": [
      "7\n"
     ]
    }
   ],
   "source": [
    "add=lambda num:num+4\n",
    "print(add(3))"
   ]
  },
  {
   "cell_type": "markdown",
   "id": "8ee824ef",
   "metadata": {},
   "source": [
    "### filter the odd numbers in the list1"
   ]
  },
  {
   "cell_type": "code",
   "execution_count": 2,
   "id": "93c6148a",
   "metadata": {},
   "outputs": [
    {
     "data": {
      "text/plain": [
       "[21, 87, 25]"
      ]
     },
     "execution_count": 2,
     "metadata": {},
     "output_type": "execute_result"
    }
   ],
   "source": [
    "list1=[21,16,24,87,25]\n",
    "odd_list=list(filter(lambda num: num%2!=0,list1))\n",
    "odd_list"
   ]
  },
  {
   "cell_type": "markdown",
   "id": "741320a9",
   "metadata": {},
   "source": [
    "### square of the nos."
   ]
  },
  {
   "cell_type": "code",
   "execution_count": 4,
   "id": "578a7c42",
   "metadata": {},
   "outputs": [
    {
     "data": {
      "text/plain": [
       "[441, 256, 576, 7569, 625]"
      ]
     },
     "execution_count": 4,
     "metadata": {},
     "output_type": "execute_result"
    }
   ],
   "source": [
    "list2=[21,16,24,87,25]\n",
    "squared_list=list(map(lambda num:num**2,list2))\n",
    "squared_list"
   ]
  },
  {
   "cell_type": "markdown",
   "id": "6e7e8bcd",
   "metadata": {},
   "source": [
    "###  compare of these two nos. and print the minimum value"
   ]
  },
  {
   "cell_type": "code",
   "execution_count": 6,
   "id": "a189ec4b",
   "metadata": {},
   "outputs": [
    {
     "data": {
      "text/plain": [
       "2"
      ]
     },
     "execution_count": 6,
     "metadata": {},
     "output_type": "execute_result"
    }
   ],
   "source": [
    "min=lambda x,y:x if (x<y)else y\n",
    "min(2,3)"
   ]
  },
  {
   "cell_type": "code",
   "execution_count": null,
   "id": "3b9ac7b8",
   "metadata": {},
   "outputs": [],
   "source": []
  }
 ],
 "metadata": {
  "kernelspec": {
   "display_name": "Python 3 (ipykernel)",
   "language": "python",
   "name": "python3"
  },
  "language_info": {
   "codemirror_mode": {
    "name": "ipython",
    "version": 3
   },
   "file_extension": ".py",
   "mimetype": "text/x-python",
   "name": "python",
   "nbconvert_exporter": "python",
   "pygments_lexer": "ipython3",
   "version": "3.11.5"
  }
 },
 "nbformat": 4,
 "nbformat_minor": 5
}
